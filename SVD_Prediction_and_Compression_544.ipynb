{
 "cells": [
  {
   "cell_type": "markdown",
   "metadata": {},
   "source": [
    "# Programming Assignment - 5\n",
    "---\n",
    "## Name: Samruth Vennapusala\n",
    "---"
   ]
  },
  {
   "cell_type": "code",
   "execution_count": 1,
   "metadata": {},
   "outputs": [],
   "source": [
    "# Import required packages\n",
    "import numpy as np\n",
    "import pandas as pd\n",
    "from sklearn.metrics import precision_recall_fscore_support\n",
    "from sklearn.preprocessing import MultiLabelBinarizer\n",
    "from sklearn.metrics import roc_auc_score, roc_curve, auc, recall_score, precision_score, f1_score\n",
    "from sklearn import svm, datasets"
   ]
  },
  {
   "cell_type": "markdown",
   "metadata": {},
   "source": [
    "## Question 1\n",
    "---\n",
    "Use your understanding of singular value decomposition and recommendation systems (from your last reading) to build a basic movie recommendation system. \n",
    "\n",
    ">- Evaluate your system on the test data (20%) and present the statistics (precision, recall and F1-score).  \n",
    "\n",
    "Use the following data set https://grouplens.org/datasets/movielens/100k/. "
   ]
  },
  {
   "cell_type": "code",
   "execution_count": 2,
   "metadata": {},
   "outputs": [
    {
     "name": "stdout",
     "output_type": "stream",
     "text": [
      "       user_id  movie_id  rating  timestamp\n",
      "0            1         6       5  887431973\n",
      "1            1        10       3  875693118\n",
      "2            1        12       5  878542960\n",
      "3            1        14       5  874965706\n",
      "4            1        17       3  875073198\n",
      "...        ...       ...     ...        ...\n",
      "19995      458       648       4  886395899\n",
      "19996      458      1101       4  886397931\n",
      "19997      459       934       3  879563639\n",
      "19998      460        10       3  882912371\n",
      "19999      462       682       5  886365231\n",
      "\n",
      "[20000 rows x 4 columns]\n"
     ]
    }
   ],
   "source": [
    "test_data_path = r'C:/Users/samru/Desktop/ml-100k/ml-100k/u1.test'\n",
    "test_data = pd.io.parsers.read_csv(test_data_path, names=['user_id', 'movie_id', 'rating', 'timestamp'],engine='python', delimiter='\\t')\n",
    "\n",
    "print(test_data)"
   ]
  },
  {
   "cell_type": "code",
   "execution_count": 3,
   "metadata": {},
   "outputs": [
    {
     "name": "stdout",
     "output_type": "stream",
     "text": [
      "       user_id  movie_id  rating  timestamp\n",
      "0          196       242       3  881250949\n",
      "1          186       302       3  891717742\n",
      "2           22       377       1  878887116\n",
      "3          244        51       2  880606923\n",
      "4          166       346       1  886397596\n",
      "...        ...       ...     ...        ...\n",
      "99995      880       476       3  880175444\n",
      "99996      716       204       5  879795543\n",
      "99997      276      1090       1  874795795\n",
      "99998       13       225       2  882399156\n",
      "99999       12       203       3  879959583\n",
      "\n",
      "[100000 rows x 4 columns]\n"
     ]
    }
   ],
   "source": [
    "# Your code comes here\n",
    "data_path = r'C:/Users/samru/Desktop/ml-100k/ml-100k/u.data'\n",
    "data = pd.io.parsers.read_csv(data_path, names=['user_id', 'movie_id', 'rating', 'timestamp'],engine='python', delimiter='\\t')\n",
    "\n",
    "print(data)"
   ]
  },
  {
   "cell_type": "code",
   "execution_count": 4,
   "metadata": {},
   "outputs": [
    {
     "name": "stdout",
     "output_type": "stream",
     "text": [
      "      movie_id                                movie_title release_date  \\\n",
      "0            1                           Toy Story (1995)  01-Jan-1995   \n",
      "1            2                           GoldenEye (1995)  01-Jan-1995   \n",
      "2            3                          Four Rooms (1995)  01-Jan-1995   \n",
      "3            4                          Get Shorty (1995)  01-Jan-1995   \n",
      "4            5                             Copycat (1995)  01-Jan-1995   \n",
      "...        ...                                        ...          ...   \n",
      "1677      1678                          Mat' i syn (1997)  06-Feb-1998   \n",
      "1678      1679                           B. Monkey (1998)  06-Feb-1998   \n",
      "1679      1680                       Sliding Doors (1998)  01-Jan-1998   \n",
      "1680      1681                        You So Crazy (1994)  01-Jan-1994   \n",
      "1681      1682  Scream of Stone (Schrei aus Stein) (1991)  08-Mar-1996   \n",
      "\n",
      "      video_release_date                                           IMDb URL  \\\n",
      "0                    NaN  http://us.imdb.com/M/title-exact?Toy%20Story%2...   \n",
      "1                    NaN  http://us.imdb.com/M/title-exact?GoldenEye%20(...   \n",
      "2                    NaN  http://us.imdb.com/M/title-exact?Four%20Rooms%...   \n",
      "3                    NaN  http://us.imdb.com/M/title-exact?Get%20Shorty%...   \n",
      "4                    NaN  http://us.imdb.com/M/title-exact?Copycat%20(1995)   \n",
      "...                  ...                                                ...   \n",
      "1677                 NaN  http://us.imdb.com/M/title-exact?Mat%27+i+syn+...   \n",
      "1678                 NaN  http://us.imdb.com/M/title-exact?B%2E+Monkey+(...   \n",
      "1679                 NaN      http://us.imdb.com/Title?Sliding+Doors+(1998)   \n",
      "1680                 NaN  http://us.imdb.com/M/title-exact?You%20So%20Cr...   \n",
      "1681                 NaN  http://us.imdb.com/M/title-exact?Schrei%20aus%...   \n",
      "\n",
      "      unknown  Action  Adventure  Animation  Children's  ...  Fantasy  \\\n",
      "0           0       0          0          1           1  ...        0   \n",
      "1           0       1          1          0           0  ...        0   \n",
      "2           0       0          0          0           0  ...        0   \n",
      "3           0       1          0          0           0  ...        0   \n",
      "4           0       0          0          0           0  ...        0   \n",
      "...       ...     ...        ...        ...         ...  ...      ...   \n",
      "1677        0       0          0          0           0  ...        0   \n",
      "1678        0       0          0          0           0  ...        0   \n",
      "1679        0       0          0          0           0  ...        0   \n",
      "1680        0       0          0          0           0  ...        0   \n",
      "1681        0       0          0          0           0  ...        0   \n",
      "\n",
      "      Film-Noir  Horror  Musical  Mystery  Romance  Sci-Fi  Thriller  War  \\\n",
      "0             0       0        0        0        0       0         0    0   \n",
      "1             0       0        0        0        0       0         1    0   \n",
      "2             0       0        0        0        0       0         1    0   \n",
      "3             0       0        0        0        0       0         0    0   \n",
      "4             0       0        0        0        0       0         1    0   \n",
      "...         ...     ...      ...      ...      ...     ...       ...  ...   \n",
      "1677          0       0        0        0        0       0         0    0   \n",
      "1678          0       0        0        0        1       0         1    0   \n",
      "1679          0       0        0        0        1       0         0    0   \n",
      "1680          0       0        0        0        0       0         0    0   \n",
      "1681          0       0        0        0        0       0         0    0   \n",
      "\n",
      "      Western  \n",
      "0           0  \n",
      "1           0  \n",
      "2           0  \n",
      "3           0  \n",
      "4           0  \n",
      "...       ...  \n",
      "1677        0  \n",
      "1678        0  \n",
      "1679        0  \n",
      "1680        0  \n",
      "1681        0  \n",
      "\n",
      "[1682 rows x 24 columns]\n"
     ]
    }
   ],
   "source": [
    "\n",
    "genre_data = pd.io.parsers.read_csv(r'C:/Users/samru/Desktop/ml-100k/ml-100k/u.item',encoding = \"ISO-8859-1\",\n",
    "                                    names=['movie_id', 'movie_title' , 'release_date' , 'video_release_date' ,\n",
    "              'IMDb URL' , 'unknown' , 'Action' , 'Adventure' , 'Animation' ,\n",
    "              \"Children's\" , 'Comedy' , 'Crime' , 'Documentary' , 'Drama' , 'Fantasy' ,\n",
    "              'Film-Noir' , 'Horror' , 'Musical' , 'Mystery', 'Romance' , 'Sci-Fi' ,\n",
    "              'Thriller' , 'War' , 'Western'],\n",
    "                                    engine='python', delimiter='|')\n",
    "\n",
    "print(genre_data)"
   ]
  },
  {
   "cell_type": "code",
   "execution_count": 5,
   "metadata": {},
   "outputs": [],
   "source": [
    "ratings_mat = np.ndarray(\n",
    "    shape=(np.max(data.movie_id.values), np.max(data.user_id.values)),\n",
    "    dtype=np.uint8)\n",
    "ratings_mat[data.movie_id.values-1, data.user_id.values-1] = data.rating.values"
   ]
  },
  {
   "cell_type": "code",
   "execution_count": 12,
   "metadata": {},
   "outputs": [
    {
     "data": {
      "text/plain": [
       "100000"
      ]
     },
     "execution_count": 12,
     "metadata": {},
     "output_type": "execute_result"
    }
   ],
   "source": []
  },
  {
   "cell_type": "code",
   "execution_count": 6,
   "metadata": {},
   "outputs": [],
   "source": [
    "ratings_test_mat = np.ndarray(\n",
    "    shape=(np.max(test_data.movie_id.values), np.max(test_data.user_id.values)),\n",
    "    dtype=np.uint8)\n",
    "ratings_test_mat[test_data.movie_id.values-1, test_data.user_id.values-1] = test_data.rating.values"
   ]
  },
  {
   "cell_type": "code",
   "execution_count": 7,
   "metadata": {},
   "outputs": [],
   "source": [
    "normalised_mat = ratings_mat - np.asarray([(np.mean(ratings_mat, 1))]).T"
   ]
  },
  {
   "cell_type": "code",
   "execution_count": 8,
   "metadata": {},
   "outputs": [],
   "source": [
    "A = normalised_mat.T / np.sqrt(ratings_mat.shape[0] - 1)\n",
    "U, S, V = np.linalg.svd(A)"
   ]
  },
  {
   "cell_type": "code",
   "execution_count": 34,
   "metadata": {},
   "outputs": [],
   "source": [
    "def top_cosine_similarity(data, movie_id, top_n=10):\n",
    "    index = movie_id - 1 # Movie id starts from 1 in the dataset\n",
    "    movie_row = data[index, :]\n",
    "    magnitude = np.sqrt(np.einsum('ij, ij -> i', data, data))\n",
    "    similarity = np.dot(movie_row, data.T) / (magnitude[index] * magnitude)\n",
    "    sort_indexes = np.argsort(-similarity)\n",
    "    return sort_indexes[:top_n]"
   ]
  },
  {
   "cell_type": "code",
   "execution_count": 35,
   "metadata": {},
   "outputs": [],
   "source": [
    "def print_similar_movies(genre_data, movie_id, top_indexes):\n",
    "    print('Recommendations for {0}: \\n'.format(\n",
    "    genre_data[genre_data.movie_id == movie_id].movie_title.values[0]))\n",
    "    for id in top_indexes + 1:\n",
    "        print(genre_data[genre_data.movie_id == id].movie_title.values[0])"
   ]
  },
  {
   "cell_type": "code",
   "execution_count": 40,
   "metadata": {},
   "outputs": [],
   "source": [
    "k = 50\n",
    "movie_id = 1 # (getting an id from movies.dat)\n",
    "top_n = 10\n",
    "sliced = V.T[:, :k] # representative data\n",
    "indexes = top_cosine_similarity(sliced, movie_id, top_n)"
   ]
  },
  {
   "cell_type": "code",
   "execution_count": 41,
   "metadata": {},
   "outputs": [
    {
     "name": "stdout",
     "output_type": "stream",
     "text": [
      "Recommendations for Toy Story (1995): \n",
      "\n",
      "Toy Story (1995)\n",
      "Hercules (1997)\n",
      "Jerry Maguire (1996)\n",
      "Hunchback of Notre Dame, The (1996)\n",
      "Dumbo (1941)\n",
      "Matilda (1996)\n",
      "Aladdin (1992)\n",
      "Close Shave, A (1995)\n",
      "Beauty and the Beast (1991)\n",
      "I Don't Want to Talk About It (De eso no se habla) (1993)\n"
     ]
    }
   ],
   "source": [
    "print_similar_movies(genre_data, movie_id, indexes)"
   ]
  },
  {
   "cell_type": "code",
   "execution_count": 69,
   "metadata": {},
   "outputs": [
    {
     "name": "stdout",
     "output_type": "stream",
     "text": [
      "Precision:  0.984472104519774\n",
      "Recall:  0.9473570407269037\n",
      "F1 Score:  0.9651321853091003\n"
     ]
    }
   ],
   "source": [
    "y_test = ratings_test_mat[0:1000]\n",
    "y_train= ratings_mat[0:1000]\n",
    "\n",
    "m = MultiLabelBinarizer().fit(y_train)\n",
    "\n",
    "\n",
    "Precision = precision_score(m.transform(y_test), m.transform(y_train), average='macro') \n",
    "Recall = recall_score(m.transform(y_test), m.transform(y_train), average='macro')\n",
    "F1 = f1_score(m.transform(y_test), m.transform(y_train), average='macro') \n",
    "\n",
    "print(\"Precision: \", Precision)\n",
    "print(\"Recall: \", Recall)\n",
    "print(\"F1 Score: \", F1)\n"
   ]
  },
  {
   "cell_type": "markdown",
   "metadata": {},
   "source": [
    "## Question 2\n",
    "---\n",
    "Use the Python code for image compression to compress the national flags of different countries of your choice. The index of the smallest singular value above an $\\epsilon$ threshold as defined below gives the numerical rank. Pick any 5 national flags and arrange them in the order of decreasing numerical rank.\n",
    "\n",
    "numerical rank = smallest $r$ such that $\\frac{\\sigma_r}{\\sigma_1} > \\epsilon$\n",
    "\n",
    "For example, use $\\epsilon = 0.001$."
   ]
  },
  {
   "cell_type": "code",
   "execution_count": 44,
   "metadata": {},
   "outputs": [],
   "source": [
    "# Your code comes here\n",
    "import matplotlib.pyplot as plt\n",
    "import matplotlib.image as mpimg\n",
    "import ipywidgets as widgets\n",
    "from ipywidgets import interact, interactive, fixed, interact_manual"
   ]
  },
  {
   "cell_type": "code",
   "execution_count": 21,
   "metadata": {},
   "outputs": [],
   "source": [
    "\n",
    "epsilon = .001\n",
    "\n",
    "\n",
    "czech_flag_path = r'C:/Users/samru/Desktop/flagimg/Czech-flag.jpg'\n",
    "denmark_flag_path = r'C:/Users/samru/Desktop/flagimg/Flag_of_Denmark.jpg'\n",
    "finland_flag_path = r'C:/Users/samru/Desktop/flagimg/Flag-Finland.jpg'\n",
    "norway_flag_path = r'C:/Users/samru/Desktop/flagimg/Flag-Norway.jpg'\n",
    "sweden_flag_path = r'C:/Users/samru/Desktop/flagimg/swedens-flag.jpg'\n",
    "\n",
    "czech_flag = mpimg.imread(czech_flag_path)\n",
    "denmark_flag = mpimg.imread(denmark_flag_path)\n",
    "finland_flag = mpimg.imread(finland_flag_path)\n",
    "norway_flag = mpimg.imread(norway_flag_path)\n",
    "sweden_flag = mpimg.imread(sweden_flag_path)\n",
    "\n",
    "labels = [\"Czech\",\"Denmark\",\"Finland\",\"Norway\",\"Sweden\"]\n",
    "flag_list = [czech_flag,denmark_flag,finland_flag,norway_flag,sweden_flag]\n"
   ]
  },
  {
   "cell_type": "code",
   "execution_count": 24,
   "metadata": {},
   "outputs": [
    {
     "name": "stdout",
     "output_type": "stream",
     "text": [
      "Czech\n"
     ]
    },
    {
     "data": {
      "image/png": "[encoded data removed]",
      "text/plain": [
       "<Figure size 432x288 with 1 Axes>"
      ]
     },
     "metadata": {
      "needs_background": "light"
     },
     "output_type": "display_data"
    },
    {
     "name": "stdout",
     "output_type": "stream",
     "text": [
      "Denmark\n"
     ]
    },
    {
     "data": {
      "image/png": "[encoded data removed]",
      "text/plain": [
       "<Figure size 432x288 with 1 Axes>"
      ]
     },
     "metadata": {
      "needs_background": "light"
     },
     "output_type": "display_data"
    },
    {
     "name": "stdout",
     "output_type": "stream",
     "text": [
      "Finland\n"
     ]
    },
    {
     "data": {
      "image/png": "[encoded data removed]",
      "text/plain": [
       "<Figure size 432x288 with 1 Axes>"
      ]
     },
     "metadata": {
      "needs_background": "light"
     },
     "output_type": "display_data"
    },
    {
     "name": "stdout",
     "output_type": "stream",
     "text": [
      "Norway\n"
     ]
    },
    {
     "data": {
      "image/png": "[encoded data removed]",
      "text/plain": [
       "<Figure size 432x288 with 1 Axes>"
      ]
     },
     "metadata": {
      "needs_background": "light"
     },
     "output_type": "display_data"
    },
    {
     "name": "stdout",
     "output_type": "stream",
     "text": [
      "Sweden\n"
     ]
    },
    {
     "data": {
      "image/png": "[encoded data removed]",
      "text/plain": [
       "<Figure size 432x288 with 1 Axes>"
      ]
     },
     "metadata": {
      "needs_background": "light"
     },
     "output_type": "display_data"
    }
   ],
   "source": [
    "for i in range(len(labels)):\n",
    "    plt.axis('off')\n",
    "    print(labels[i])\n",
    "    plt.imshow(flag_list[i])\n",
    "    plt.show()\n"
   ]
  },
  {
   "cell_type": "code",
   "execution_count": 25,
   "metadata": {},
   "outputs": [],
   "source": [
    "def rgb_svd_image(pix):\n",
    "    pix_rgb = pix/255.0;\n",
    "    U0,S0,V0 = np.linalg.svd(pix_rgb[...,0]);\n",
    "    U1,S1,V1 = np.linalg.svd(pix_rgb[...,1]);\n",
    "    U2,S2,V2 = np.linalg.svd(pix_rgb[...,2]);\n",
    "    pix_compressed = np.zeros_like(pix_rgb);\n",
    "    k=25\n",
    "    pix_compressed[...,0] = np.dot(U0[:,:k], V0[:k,:]*S0[:k].reshape(k,1));\n",
    "    pix_compressed[...,1] = np.dot(U1[:,:k], V1[:k,:]*S1[:k].reshape(k,1));\n",
    "    pix_compressed[...,2] = np.dot(U2[:,:k], V2[:k,:]*S2[:k].reshape(k,1));\n",
    "    return pix_compressed\n",
    "    "
   ]
  },
  {
   "cell_type": "code",
   "execution_count": 28,
   "metadata": {},
   "outputs": [
    {
     "name": "stdout",
     "output_type": "stream",
     "text": [
      "5\n"
     ]
    }
   ],
   "source": [
    "compressed_images = []\n",
    "length = len(flag_list)\n",
    "print(length)\n",
    "for i in range (0,length):\n",
    "    pix = rgb_svd_image(flag_list[i])\n",
    "    compressed_images.append(pix)"
   ]
  },
  {
   "cell_type": "code",
   "execution_count": 29,
   "metadata": {},
   "outputs": [
    {
     "name": "stdout",
     "output_type": "stream",
     "text": [
      "[9.336071789521376e-17, 7.763175428787542e-17, 9.989462133570918e-17, 6.23806398687991e-17, 4.435125269756673e-17]\n"
     ]
    }
   ],
   "source": [
    "def rank_compressed_images(flag_list,labels):\n",
    "    curr_rmax = 0\n",
    "    curr_sig_min = 1E9\n",
    "    curr_sig_r = 0\n",
    "    \n",
    "    flag_order = []\n",
    "    i = 0\n",
    "    for image in flag_list:\n",
    "\n",
    "        pix_rgb = image/255.0;\n",
    "        U0,S0,V0 = np.linalg.svd(pix_rgb[...,0]);\n",
    "        U1,S1,V1 = np.linalg.svd(pix_rgb[...,1]);\n",
    "        U2,S2,V2 = np.linalg.svd(pix_rgb[...,2]);\n",
    "        if (np.max(S0) > curr_rmax):\n",
    "            curr_rmax = np.max(S0)\n",
    "        elif (np.max(S1) > rmax):\n",
    "            curr_rmax = np.max(S1)\n",
    "        elif (np.max(S2) > rmax):\n",
    "            curr_rmax = np.max(S2)\n",
    "        if (np.min(S0) < curr_sig_min):\n",
    "            curr_sig_min = np.min(S0)\n",
    "        elif (np.min(S1) < curr_sig_min):\n",
    "            curr_sig_min = np.min(S1)\n",
    "        elif (np.min(S2) < curr_sig_min):\n",
    "            curr_sig_min = np.min(S2)\n",
    "        curr_sig_r = curr_sig_min/curr_rmax\n",
    "\n",
    "        if (curr_sig_r < epsilon):\n",
    "          flag_order.append(curr_sig_r)\n",
    "        curr_rmax = 0\n",
    "        curr_sig_min = 1E9\n",
    "        curr_sig_r = 0\n",
    "    return(flag_order)\n",
    "\n",
    "flag_order = rank_compressed_images(flag_list,labels)\n",
    "print(flag_order)"
   ]
  },
  {
   "cell_type": "code",
   "execution_count": 30,
   "metadata": {},
   "outputs": [],
   "source": [
    "def merge(list1, list2,  list3):\n",
    "      \n",
    "    merged_list = tuple(zip(list1, list2,list3)) \n",
    "    return merged_list"
   ]
  },
  {
   "cell_type": "code",
   "execution_count": 32,
   "metadata": {},
   "outputs": [
    {
     "name": "stdout",
     "output_type": "stream",
     "text": [
      "[9.336071789521376e-17, 7.763175428787542e-17, 9.989462133570918e-17, 6.23806398687991e-17, 4.435125269756673e-17]\n",
      "Sweden\n",
      "Norway\n",
      "Denmark\n",
      "Czech\n",
      "Finland\n"
     ]
    }
   ],
   "source": [
    "\n",
    "print(flag_order)\n",
    "\n",
    "order_array = merge(flag_order,labels,compressed_images)\n",
    "ordered = sorted(order_array)\n",
    "\n",
    "print(ordered[0][1])\n",
    "print(ordered[1][1])\n",
    "print(ordered[2][1])\n",
    "print(ordered[3][1])\n",
    "print(ordered[4][1])"
   ]
  },
  {
   "cell_type": "code",
   "execution_count": 37,
   "metadata": {},
   "outputs": [
    {
     "name": "stderr",
     "output_type": "stream",
     "text": [
      "Clipping input data to the valid range for imshow with RGB data ([0..1] for floats or [0..255] for integers).\n"
     ]
    },
    {
     "data": {
      "text/plain": [
       "<matplotlib.image.AxesImage at 0x27295f88608>"
      ]
     },
     "execution_count": 37,
     "metadata": {},
     "output_type": "execute_result"
    },
    {
     "data": {
      "image/png": "[encoded data removed]",
      "text/plain": [
       "<Figure size 432x288 with 1 Axes>"
      ]
     },
     "metadata": {
      "needs_background": "light"
     },
     "output_type": "display_data"
    }
   ],
   "source": [
    "plt.imshow(ordered[0][2])"
   ]
  },
  {
   "cell_type": "code",
   "execution_count": 38,
   "metadata": {},
   "outputs": [
    {
     "name": "stderr",
     "output_type": "stream",
     "text": [
      "Clipping input data to the valid range for imshow with RGB data ([0..1] for floats or [0..255] for integers).\n"
     ]
    },
    {
     "data": {
      "text/plain": [
       "<matplotlib.image.AxesImage at 0x27295fece48>"
      ]
     },
     "execution_count": 38,
     "metadata": {},
     "output_type": "execute_result"
    },
    {
     "data": {
      "image/png": "[encoded data removed]",
      "text/plain": [
       "<Figure size 432x288 with 1 Axes>"
      ]
     },
     "metadata": {
      "needs_background": "light"
     },
     "output_type": "display_data"
    }
   ],
   "source": [
    "plt.imshow(ordered[1][2])"
   ]
  },
  {
   "cell_type": "code",
   "execution_count": 42,
   "metadata": {},
   "outputs": [
    {
     "name": "stderr",
     "output_type": "stream",
     "text": [
      "Clipping input data to the valid range for imshow with RGB data ([0..1] for floats or [0..255] for integers).\n"
     ]
    },
    {
     "data": {
      "text/plain": [
       "<matplotlib.image.AxesImage at 0x272961929c8>"
      ]
     },
     "execution_count": 42,
     "metadata": {},
     "output_type": "execute_result"
    },
    {
     "data": {
      "image/png": "[encoded data removed]",
      "text/plain": [
       "<Figure size 432x288 with 1 Axes>"
      ]
     },
     "metadata": {
      "needs_background": "light"
     },
     "output_type": "display_data"
    }
   ],
   "source": [
    "plt.imshow(ordered[2][2])"
   ]
  },
  {
   "cell_type": "code",
   "execution_count": 40,
   "metadata": {},
   "outputs": [
    {
     "name": "stderr",
     "output_type": "stream",
     "text": [
      "Clipping input data to the valid range for imshow with RGB data ([0..1] for floats or [0..255] for integers).\n"
     ]
    },
    {
     "data": {
      "text/plain": [
       "<matplotlib.image.AxesImage at 0x272960c7948>"
      ]
     },
     "execution_count": 40,
     "metadata": {},
     "output_type": "execute_result"
    },
    {
     "data": {
      "image/png": "[encoded data removed]",
      "text/plain": [
       "<Figure size 432x288 with 1 Axes>"
      ]
     },
     "metadata": {
      "needs_background": "light"
     },
     "output_type": "display_data"
    }
   ],
   "source": [
    "plt.imshow(ordered[3][2])"
   ]
  },
  {
   "cell_type": "code",
   "execution_count": 43,
   "metadata": {},
   "outputs": [
    {
     "name": "stderr",
     "output_type": "stream",
     "text": [
      "Clipping input data to the valid range for imshow with RGB data ([0..1] for floats or [0..255] for integers).\n"
     ]
    },
    {
     "data": {
      "text/plain": [
       "<matplotlib.image.AxesImage at 0x272961fd288>"
      ]
     },
     "execution_count": 43,
     "metadata": {},
     "output_type": "execute_result"
    },
    {
     "data": {
      "image/png": "[encoded data removed]",
      "text/plain": [
       "<Figure size 432x288 with 1 Axes>"
      ]
     },
     "metadata": {
      "needs_background": "light"
     },
     "output_type": "display_data"
    }
   ],
   "source": [
    "plt.imshow(ordered[4][2])"
   ]
  }
 ],
 "metadata": {
  "kernelspec": {
   "display_name": "Python 3",
   "language": "python",
   "name": "python3"
  },
  "language_info": {
   "codemirror_mode": {
    "name": "ipython",
    "version": 3
   },
   "file_extension": ".py",
   "mimetype": "text/x-python",
   "name": "python",
   "nbconvert_exporter": "python",
   "pygments_lexer": "ipython3",
   "version": "3.7.6"
  }
 },
 "nbformat": 4,
 "nbformat_minor": 4
}
